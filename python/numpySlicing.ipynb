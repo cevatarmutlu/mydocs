{
 "cells": [
  {
   "cell_type": "code",
   "execution_count": 27,
   "metadata": {},
   "outputs": [],
   "source": [
    "import numpy as np"
   ]
  },
  {
   "cell_type": "code",
   "execution_count": 28,
   "metadata": {},
   "outputs": [
    {
     "name": "stdout",
     "output_type": "stream",
     "text": [
      "[1 2 3]\n",
      "type(arr): <class 'numpy.ndarray'>\n",
      "arr.shape: (3,)\n",
      "arr.ndim: 1\n"
     ]
    }
   ],
   "source": [
    "#slicing işlemlerinde sondaki dahil değildir.\n",
    "arr = np.array([1, 2, 3])\n",
    "print(arr)\n",
    "print(f'type(arr): {type(arr)}', f'arr.shape: {arr.shape}', f'arr.ndim: {arr.ndim}', sep='\\n')"
   ]
  },
  {
   "cell_type": "code",
   "execution_count": 29,
   "metadata": {},
   "outputs": [
    {
     "name": "stdout",
     "output_type": "stream",
     "text": [
      "temp:  1\n",
      "type(temp): <class 'numpy.int64'>\n",
      "temp.shape: ()\n",
      "temp.ndim: 0\n"
     ]
    }
   ],
   "source": [
    "temp = arr[0]\n",
    "print('temp: ', temp)\n",
    "print(f'type(temp): {type(temp)}', f'temp.shape: {temp.shape}', f'temp.ndim: {temp.ndim}', sep='\\n')"
   ]
  },
  {
   "cell_type": "code",
   "execution_count": 31,
   "metadata": {},
   "outputs": [
    {
     "name": "stdout",
     "output_type": "stream",
     "text": [
      "temp:  [1]\n",
      "type(temp): <class 'numpy.ndarray'>\n",
      "temp.shape: (1,)\n",
      "temp.ndim: 1\n",
      "np.squeeze(temp):  1\n"
     ]
    }
   ],
   "source": [
    "temp = arr[0:1] # Bu işleme slicing denir ve hep dizi döner. Sondaki dahil değildir [0, 1)\n",
    "print('temp: ', temp)\n",
    "print(f'type(temp): {type(temp)}', f'temp.shape: {temp.shape}', f'temp.ndim: {temp.ndim}', sep='\\n')\n",
    "print('np.squeeze(temp): ', np.squeeze(temp)) # return 1. slicing' in verdiği dizi durumundan kurtarıyor"
   ]
  },
  {
   "cell_type": "code",
   "execution_count": 32,
   "metadata": {},
   "outputs": [
    {
     "name": "stdout",
     "output_type": "stream",
     "text": [
      "[[0 1 2]\n",
      " [3 4 5]]\n",
      "type(arr): <class 'numpy.ndarray'>\n",
      "arr.shape: (2, 3)\n",
      "arr.ndim: 2\n"
     ]
    }
   ],
   "source": [
    "arr = np.array([\n",
    "  [0, 1, 2],\n",
    "  [3, 4, 5]\n",
    "])\n",
    "print(arr)\n",
    "print(f'type(arr): {type(arr)}', f'arr.shape: {arr.shape}', f'arr.ndim: {arr.ndim}', sep='\\n')"
   ]
  },
  {
   "cell_type": "code",
   "execution_count": 33,
   "metadata": {},
   "outputs": [
    {
     "name": "stdout",
     "output_type": "stream",
     "text": [
      "temp:  [[0 1 2]]\n",
      "type(temp): <class 'numpy.ndarray'>\n",
      "temp.shape: (1, 3)\n",
      "temp.ndim: 2\n",
      "np.squeeze(temp):  [0 1 2]\n"
     ]
    }
   ],
   "source": [
    "temp = arr[0:1]\n",
    "print('temp: ', temp)\n",
    "print(f'type(temp): {type(temp)}', f'temp.shape: {temp.shape}', f'temp.ndim: {temp.ndim}', sep='\\n')\n",
    "print('np.squeeze(temp): ', np.squeeze(temp))"
   ]
  },
  {
   "cell_type": "code",
   "execution_count": 34,
   "metadata": {},
   "outputs": [
    {
     "name": "stdout",
     "output_type": "stream",
     "text": [
      "temp:  [0 3]\n",
      "type(temp): <class 'numpy.ndarray'>\n",
      "temp.shape: (2,)\n",
      "temp.ndim: 1\n",
      "np.squeeze(temp):  [0 3]\n"
     ]
    }
   ],
   "source": [
    "temp = arr[:, 0]\n",
    "print('temp: ', temp)\n",
    "print(f'type(temp): {type(temp)}', f'temp.shape: {temp.shape}', f'temp.ndim: {temp.ndim}', sep='\\n')\n",
    "print('np.squeeze(temp): ', np.squeeze(temp))"
   ]
  },
  {
   "cell_type": "code",
   "execution_count": 38,
   "metadata": {},
   "outputs": [
    {
     "name": "stdout",
     "output_type": "stream",
     "text": [
      "temp:  [[0]\n",
      " [3]]\n",
      "type(temp): <class 'numpy.ndarray'>\n",
      "temp.shape: (2, 1)\n",
      "temp.ndim: 2\n",
      "np.squeeze(temp):  [0 3]\n"
     ]
    }
   ],
   "source": [
    "temp = arr[:, 0:1] # dizi içinde dizi olursa her diziyi satır olarak görüyor\n",
    "print('temp: ', temp)\n",
    "print(f'type(temp): {type(temp)}', f'temp.shape: {temp.shape}', f'temp.ndim: {temp.ndim}', sep='\\n')\n",
    "print('np.squeeze(temp): ', np.squeeze(temp))"
   ]
  },
  {
   "cell_type": "code",
   "execution_count": 39,
   "metadata": {},
   "outputs": [
    {
     "name": "stdout",
     "output_type": "stream",
     "text": [
      "[[[ 0  1  2]\n",
      "  [ 3  4  5]]\n",
      "\n",
      " [[ 4  7  8]\n",
      "  [ 9 10 11]]]\n",
      "type(arr): <class 'numpy.ndarray'>\n",
      "arr.shape: (2, 2, 3)\n",
      "arr.ndim: 3\n"
     ]
    }
   ],
   "source": [
    "arr = np.array([\n",
    "  [\n",
    "    [0, 1, 2],\n",
    "    [3, 4, 5]\n",
    "  ],\n",
    "  [\n",
    "    [4, 7, 8],\n",
    "    [9, 10, 11]\n",
    "  ]\n",
    "])\n",
    "print(arr)\n",
    "print(f'type(arr): {type(arr)}', f'arr.shape: {arr.shape}', f'arr.ndim: {arr.ndim}', sep='\\n')"
   ]
  },
  {
   "cell_type": "code",
   "execution_count": 40,
   "metadata": {},
   "outputs": [
    {
     "name": "stdout",
     "output_type": "stream",
     "text": [
      "temp:  [[[0 1 2]\n",
      "  [3 4 5]]]\n",
      "type(temp): <class 'numpy.ndarray'>\n",
      "temp.shape: (1, 2, 3)\n",
      "temp.ndim: 3\n",
      "np.squeeze(temp):  [[0 1 2]\n",
      " [3 4 5]]\n"
     ]
    }
   ],
   "source": [
    "temp = arr[0:1]\n",
    "print('temp: ', temp)\n",
    "print(f'type(temp): {type(temp)}', f'temp.shape: {temp.shape}', f'temp.ndim: {temp.ndim}', sep='\\n')\n",
    "print('np.squeeze(temp): ', np.squeeze(temp))"
   ]
  },
  {
   "cell_type": "code",
   "execution_count": 41,
   "metadata": {},
   "outputs": [
    {
     "name": "stdout",
     "output_type": "stream",
     "text": [
      "temp:  [[0 1 2]\n",
      " [4 7 8]]\n",
      "type(temp): <class 'numpy.ndarray'>\n",
      "temp.shape: (2, 3)\n",
      "temp.ndim: 2\n",
      "np.squeeze(temp):  [[0 1 2]\n",
      " [4 7 8]]\n"
     ]
    }
   ],
   "source": [
    "temp = arr[:, 0]\n",
    "print('temp: ', temp)\n",
    "print(f'type(temp): {type(temp)}', f'temp.shape: {temp.shape}', f'temp.ndim: {temp.ndim}', sep='\\n')\n",
    "print('np.squeeze(temp): ', np.squeeze(temp))"
   ]
  },
  {
   "cell_type": "code",
   "execution_count": 42,
   "metadata": {},
   "outputs": [
    {
     "name": "stdout",
     "output_type": "stream",
     "text": [
      "temp:  [[[0 1 2]]\n",
      "\n",
      " [[4 7 8]]]\n",
      "type(temp): <class 'numpy.ndarray'>\n",
      "temp.shape: (2, 1, 3)\n",
      "temp.ndim: 3\n",
      "np.squeeze(temp):  [[0 1 2]\n",
      " [4 7 8]]\n"
     ]
    }
   ],
   "source": [
    "temp = arr[:, 0:1] # dizi içinde dizi olursa her diziyi satır olarak görüyor\n",
    "print('temp: ', temp)\n",
    "print(f'type(temp): {type(temp)}', f'temp.shape: {temp.shape}', f'temp.ndim: {temp.ndim}', sep='\\n')\n",
    "print('np.squeeze(temp): ', np.squeeze(temp))"
   ]
  },
  {
   "cell_type": "code",
   "execution_count": 43,
   "metadata": {},
   "outputs": [
    {
     "name": "stdout",
     "output_type": "stream",
     "text": [
      "temp:  [[[0]\n",
      "  [3]]\n",
      "\n",
      " [[4]\n",
      "  [9]]]\n",
      "type(temp): <class 'numpy.ndarray'>\n",
      "temp.shape: (2, 2, 1)\n",
      "temp.ndim: 3\n",
      "np.squeeze(temp):  [[0 3]\n",
      " [4 9]]\n"
     ]
    }
   ],
   "source": [
    "temp = arr[:, :, 0:1]\n",
    "print('temp: ', temp)\n",
    "print(f'type(temp): {type(temp)}', f'temp.shape: {temp.shape}', f'temp.ndim: {temp.ndim}', sep='\\n')\n",
    "print('np.squeeze(temp): ', np.squeeze(temp))"
   ]
  }
 ],
 "metadata": {
  "kernelspec": {
   "display_name": "Python 3",
   "language": "python",
   "name": "python3"
  },
  "language_info": {
   "codemirror_mode": {
    "name": "ipython",
    "version": 3
   },
   "file_extension": ".py",
   "mimetype": "text/x-python",
   "name": "python",
   "nbconvert_exporter": "python",
   "pygments_lexer": "ipython3",
   "version": "3.8.5"
  }
 },
 "nbformat": 4,
 "nbformat_minor": 4
}
