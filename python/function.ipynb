{
 "metadata": {
  "language_info": {
   "codemirror_mode": {
    "name": "ipython",
    "version": 3
   },
   "file_extension": ".py",
   "mimetype": "text/x-python",
   "name": "python",
   "nbconvert_exporter": "python",
   "pygments_lexer": "ipython3",
   "version": "3.8.5-final"
  },
  "orig_nbformat": 2,
  "kernelspec": {
   "name": "python3",
   "display_name": "Python 3",
   "language": "python"
  }
 },
 "nbformat": 4,
 "nbformat_minor": 2,
 "cells": [
  {
   "source": [
    "Daha önce gördüğüm ama ne olduğunu tam olarak anlamadığım yapı."
   ],
   "cell_type": "markdown",
   "metadata": {}
  },
  {
   "cell_type": "code",
   "execution_count": 6,
   "metadata": {},
   "outputs": [
    {
     "output_type": "stream",
     "name": "stdout",
     "text": [
      "2020-12-10 10:04:12.360859\n2020-12-10 10:04:12.360859\n2020-12-14 12:04:10.360859\n2020-12-14 12:04:10.360859\n"
     ]
    }
   ],
   "source": [
    "from datetime import datetime, timedelta\n",
    "\n",
    "print(\"**kwargs\")\n",
    "kwargs = {'hours': 2, 'days': 5}\n",
    "now = datetime.now()\n",
    "beforeTime = timedelta(**kwargs)\n",
    "beforeTime2 = timedelta(hours=2, days=5)\n",
    "print(now - beforeTime)\n",
    "print(now - beforeTime2)\n",
    "\n",
    "print(\"*args\")\n",
    "\n",
    "args = [1, 2]\n",
    "beforeTime = timedelta(*args)\n",
    "beforeTime2 = timedelta(days=1, seconds=2)\n",
    "print(now - beforeTime)\n",
    "print(now - beforeTime2)\n"
   ]
  },
  {
   "cell_type": "code",
   "execution_count": null,
   "metadata": {},
   "outputs": [],
   "source": []
  }
 ]
}